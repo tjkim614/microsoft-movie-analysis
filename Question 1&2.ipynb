{
 "cells": [
  {
   "cell_type": "code",
   "execution_count": 1,
   "metadata": {},
   "outputs": [],
   "source": [
    "# Import necessary libraries\n",
    "import pandas as pd\n",
    "import numpy as np\n",
    "import matplotlib.pyplot as plt\n",
    "import seaborn as sns"
   ]
  },
  {
   "cell_type": "code",
   "execution_count": 2,
   "metadata": {},
   "outputs": [],
   "source": [
    "# Assign data into variables as DataFrames using Pandas\n",
    "ratings = pd.read_csv('zippedData/imdb.title.ratings.csv.gz')\n",
    "people = pd.read_csv('zippedData/imdb.title.principals.csv.gz')\n",
    "title = pd.read_csv('zippedData/imdb.name.basics.csv.gz', index_col='nconst')\n",
    "money = pd.read_csv('zippedData/tn.movie_budgets.csv.gz')"
   ]
  },
  {
   "cell_type": "markdown",
   "metadata": {},
   "source": [
    "## Question 1: Does the gender of the main character affect movie rating?"
   ]
  },
  {
   "cell_type": "code",
   "execution_count": 21,
   "metadata": {},
   "outputs": [
    {
     "name": "stdout",
     "output_type": "stream",
     "text": [
      "<class 'pandas.core.frame.DataFrame'>\n",
      "Index: 9611 entries, tt7131622 to tt9165634\n",
      "Data columns (total 2 columns):\n",
      "averagerating    9611 non-null float64\n",
      "numvotes         9611 non-null int64\n",
      "dtypes: float64(1), int64(1)\n",
      "memory usage: 545.3+ KB\n"
     ]
    }
   ],
   "source": [
    "ratings.info()"
   ]
  },
  {
   "cell_type": "code",
   "execution_count": 22,
   "metadata": {},
   "outputs": [
    {
     "name": "stdout",
     "output_type": "stream",
     "text": [
      "           averagerating  numvotes\n",
      "tconst                            \n",
      "tt7131622            9.7      5600\n",
      "tt6058226            9.6      2604\n",
      "tt4131686            9.6      1339\n",
      "tt5963218            9.5      6509\n",
      "tt7738784            9.4      9629\n",
      "...                  ...       ...\n",
      "tt9364684            1.4      3511\n",
      "tt4404474            1.3      6249\n",
      "tt8081062            1.3      3244\n",
      "tt7221896            1.3     36986\n",
      "tt9165634            1.2      3445\n",
      "\n",
      "[9611 rows x 2 columns]\n"
     ]
    }
   ],
   "source": [
    "# Movies with more than 1000 ratings, sorted by highest rating.\n",
    "ratings = ratings.sort_values(by=['averagerating'], ascending=False).loc[ratings['numvotes'] > 1000]\n",
    "print(ratings)"
   ]
  },
  {
   "cell_type": "code",
   "execution_count": 8,
   "metadata": {},
   "outputs": [
    {
     "data": {
      "text/html": [
       "<div>\n",
       "<style scoped>\n",
       "    .dataframe tbody tr th:only-of-type {\n",
       "        vertical-align: middle;\n",
       "    }\n",
       "\n",
       "    .dataframe tbody tr th {\n",
       "        vertical-align: top;\n",
       "    }\n",
       "\n",
       "    .dataframe thead th {\n",
       "        text-align: right;\n",
       "    }\n",
       "</style>\n",
       "<table border=\"1\" class=\"dataframe\">\n",
       "  <thead>\n",
       "    <tr style=\"text-align: right;\">\n",
       "      <th></th>\n",
       "      <th>tconst</th>\n",
       "      <th>ordering</th>\n",
       "      <th>nconst</th>\n",
       "      <th>category</th>\n",
       "      <th>job</th>\n",
       "      <th>characters</th>\n",
       "    </tr>\n",
       "  </thead>\n",
       "  <tbody>\n",
       "    <tr>\n",
       "      <th>0</th>\n",
       "      <td>tt0111414</td>\n",
       "      <td>1</td>\n",
       "      <td>nm0246005</td>\n",
       "      <td>actor</td>\n",
       "      <td>NaN</td>\n",
       "      <td>[\"The Man\"]</td>\n",
       "    </tr>\n",
       "    <tr>\n",
       "      <th>1</th>\n",
       "      <td>tt0111414</td>\n",
       "      <td>2</td>\n",
       "      <td>nm0398271</td>\n",
       "      <td>director</td>\n",
       "      <td>NaN</td>\n",
       "      <td>NaN</td>\n",
       "    </tr>\n",
       "    <tr>\n",
       "      <th>2</th>\n",
       "      <td>tt0111414</td>\n",
       "      <td>3</td>\n",
       "      <td>nm3739909</td>\n",
       "      <td>producer</td>\n",
       "      <td>producer</td>\n",
       "      <td>NaN</td>\n",
       "    </tr>\n",
       "    <tr>\n",
       "      <th>3</th>\n",
       "      <td>tt0323808</td>\n",
       "      <td>10</td>\n",
       "      <td>nm0059247</td>\n",
       "      <td>editor</td>\n",
       "      <td>NaN</td>\n",
       "      <td>NaN</td>\n",
       "    </tr>\n",
       "    <tr>\n",
       "      <th>4</th>\n",
       "      <td>tt0323808</td>\n",
       "      <td>1</td>\n",
       "      <td>nm3579312</td>\n",
       "      <td>actress</td>\n",
       "      <td>NaN</td>\n",
       "      <td>[\"Beth Boothby\"]</td>\n",
       "    </tr>\n",
       "    <tr>\n",
       "      <th>5</th>\n",
       "      <td>tt0323808</td>\n",
       "      <td>2</td>\n",
       "      <td>nm2694680</td>\n",
       "      <td>actor</td>\n",
       "      <td>NaN</td>\n",
       "      <td>[\"Steve Thomson\"]</td>\n",
       "    </tr>\n",
       "    <tr>\n",
       "      <th>6</th>\n",
       "      <td>tt0323808</td>\n",
       "      <td>3</td>\n",
       "      <td>nm0574615</td>\n",
       "      <td>actor</td>\n",
       "      <td>NaN</td>\n",
       "      <td>[\"Sir Lachlan Morrison\"]</td>\n",
       "    </tr>\n",
       "    <tr>\n",
       "      <th>7</th>\n",
       "      <td>tt0323808</td>\n",
       "      <td>4</td>\n",
       "      <td>nm0502652</td>\n",
       "      <td>actress</td>\n",
       "      <td>NaN</td>\n",
       "      <td>[\"Lady Delia Morrison\"]</td>\n",
       "    </tr>\n",
       "    <tr>\n",
       "      <th>8</th>\n",
       "      <td>tt0323808</td>\n",
       "      <td>5</td>\n",
       "      <td>nm0362736</td>\n",
       "      <td>director</td>\n",
       "      <td>NaN</td>\n",
       "      <td>NaN</td>\n",
       "    </tr>\n",
       "    <tr>\n",
       "      <th>9</th>\n",
       "      <td>tt0323808</td>\n",
       "      <td>6</td>\n",
       "      <td>nm0811056</td>\n",
       "      <td>producer</td>\n",
       "      <td>producer</td>\n",
       "      <td>NaN</td>\n",
       "    </tr>\n",
       "  </tbody>\n",
       "</table>\n",
       "</div>"
      ],
      "text/plain": [
       "      tconst  ordering     nconst  category       job  \\\n",
       "0  tt0111414         1  nm0246005     actor       NaN   \n",
       "1  tt0111414         2  nm0398271  director       NaN   \n",
       "2  tt0111414         3  nm3739909  producer  producer   \n",
       "3  tt0323808        10  nm0059247    editor       NaN   \n",
       "4  tt0323808         1  nm3579312   actress       NaN   \n",
       "5  tt0323808         2  nm2694680     actor       NaN   \n",
       "6  tt0323808         3  nm0574615     actor       NaN   \n",
       "7  tt0323808         4  nm0502652   actress       NaN   \n",
       "8  tt0323808         5  nm0362736  director       NaN   \n",
       "9  tt0323808         6  nm0811056  producer  producer   \n",
       "\n",
       "                 characters  \n",
       "0               [\"The Man\"]  \n",
       "1                       NaN  \n",
       "2                       NaN  \n",
       "3                       NaN  \n",
       "4          [\"Beth Boothby\"]  \n",
       "5         [\"Steve Thomson\"]  \n",
       "6  [\"Sir Lachlan Morrison\"]  \n",
       "7   [\"Lady Delia Morrison\"]  \n",
       "8                       NaN  \n",
       "9                       NaN  "
      ]
     },
     "execution_count": 8,
     "metadata": {},
     "output_type": "execute_result"
    }
   ],
   "source": [
    "# Contains information about the main people involved with the movie in the order of importance.\n",
    "people.head(10)"
   ]
  },
  {
   "cell_type": "code",
   "execution_count": 23,
   "metadata": {},
   "outputs": [],
   "source": [
    "# Indexed the main person in each movie and dropped unnecessary columns.\n",
    "main_person = people.loc[people['ordering'] == 1].set_index('nconst').drop(columns=['job', 'ordering']) \\\n",
    ".dropna(subset=['category'])"
   ]
  },
  {
   "cell_type": "code",
   "execution_count": 29,
   "metadata": {},
   "outputs": [],
   "source": [
    "# Now we can attempt to answer the first question - does the gender of the main character affect movie rating?\n",
    "\n",
    "# Join relevant dataframes by the identifier codes and dropped unnecessary columns.\n",
    "first_q = main_person.join(title, how='left').set_index('tconst').join(ratings, how='right') \\\n",
    ".drop(columns=['primary_profession', 'known_for_titles', 'death_year', 'birth_year'])\n",
    "\n",
    "# On a few occations, the main person (with order number 1) is neither an actor or an actress.\n",
    "# Use indexing to avoid those few datasets.\n",
    "first_q = first_q.loc[(first_q['category'] == 'actor') | (first_q['category'] == 'actress')]"
   ]
  },
  {
   "cell_type": "code",
   "execution_count": 30,
   "metadata": {},
   "outputs": [
    {
     "data": {
      "text/plain": [
       "<matplotlib.axes._subplots.AxesSubplot at 0x7fcc7fa58f60>"
      ]
     },
     "execution_count": 30,
     "metadata": {},
     "output_type": "execute_result"
    },
    {
     "data": {
      "image/png": "[encoded data removed]",
      "text/plain": [
       "<Figure size 432x288 with 1 Axes>"
      ]
     },
     "metadata": {
      "needs_background": "light"
     },
     "output_type": "display_data"
    }
   ],
   "source": [
    "# Graph a boxplot to visualize this data\n",
    "sns.boxplot(x=first_q.category, y=first_q.averagerating)"
   ]
  },
  {
   "cell_type": "code",
   "execution_count": 33,
   "metadata": {},
   "outputs": [
    {
     "name": "stderr",
     "output_type": "stream",
     "text": [
      "/Users/taejoon/opt/anaconda3/envs/learn-env/lib/python3.6/site-packages/seaborn/distributions.py:2551: FutureWarning: `distplot` is a deprecated function and will be removed in a future version. Please adapt your code to use either `displot` (a figure-level function with similar flexibility) or `histplot` (an axes-level function for histograms).\n",
      "  warnings.warn(msg, FutureWarning)\n",
      "/Users/taejoon/opt/anaconda3/envs/learn-env/lib/python3.6/site-packages/seaborn/distributions.py:2551: FutureWarning: `distplot` is a deprecated function and will be removed in a future version. Please adapt your code to use either `displot` (a figure-level function with similar flexibility) or `histplot` (an axes-level function for histograms).\n",
      "  warnings.warn(msg, FutureWarning)\n"
     ]
    },
    {
     "data": {
      "text/plain": [
       "<matplotlib.axes._subplots.AxesSubplot at 0x7fcca1e95240>"
      ]
     },
     "execution_count": 33,
     "metadata": {},
     "output_type": "execute_result"
    },
    {
     "data": {
      "image/png": "[encoded data removed]",
      "text/plain": [
       "<Figure size 432x288 with 1 Axes>"
      ]
     },
     "metadata": {
      "needs_background": "light"
     },
     "output_type": "display_data"
    }
   ],
   "source": [
    "# Boxblot doesn't show much difference - how about their distributions?\n",
    "first_q_actor = first_q.loc[first_q['category'] == 'actor']\n",
    "first_q_actress = first_q.loc[first_q['category'] == 'actress']\n",
    "sns.distplot(first_q_actor.averagerating)\n",
    "sns.distplot(first_q_actress.averagerating)"
   ]
  },
  {
   "cell_type": "code",
   "execution_count": 34,
   "metadata": {},
   "outputs": [
    {
     "name": "stderr",
     "output_type": "stream",
     "text": [
      "/Users/taejoon/opt/anaconda3/envs/learn-env/lib/python3.6/site-packages/numpy/core/_asarray.py:83: VisibleDeprecationWarning: Creating an ndarray from ragged nested sequences (which is a list-or-tuple of lists-or-tuples-or ndarrays with different lengths or shapes) is deprecated. If you meant to do this, you must specify 'dtype=object' when creating the ndarray\n",
      "  return array(a, dtype, copy=False, order=order)\n"
     ]
    },
    {
     "data": {
      "text/plain": [
       "Text(0.5, 1.0, 'Rating Distribution by Gender of Main Character')"
      ]
     },
     "execution_count": 34,
     "metadata": {},
     "output_type": "execute_result"
    },
    {
     "data": {
      "image/png": "[encoded data removed]",
      "text/plain": [
       "<Figure size 432x288 with 1 Axes>"
      ]
     },
     "metadata": {
      "needs_background": "light"
     },
     "output_type": "display_data"
    }
   ],
   "source": [
    "# Another look at their distributions:\n",
    "plt.hist([first_q_actor.averagerating, first_q_actress.averagerating], bins=20, density=True, label=['actor', 'actress'])\n",
    "plt.legend()\n",
    "plt.xlabel('Movie Rating')\n",
    "plt.ylabel('Frequency')\n",
    "plt.title('Rating Distribution by Gender of Main Character')"
   ]
  },
  {
   "cell_type": "code",
   "execution_count": 35,
   "metadata": {},
   "outputs": [
    {
     "data": {
      "text/plain": [
       "actor      0.691767\n",
       "actress    0.308233\n",
       "Name: category, dtype: float64"
      ]
     },
     "execution_count": 35,
     "metadata": {},
     "output_type": "execute_result"
    }
   ],
   "source": [
    "# How about the number of actors and actresses?\n",
    "first_q.category.value_counts(normalize=True)"
   ]
  },
  {
   "cell_type": "markdown",
   "metadata": {},
   "source": [
    "## Question 1 - Findings:\n",
    "- The gender of the main character does not affect movie rating.\n",
    "- However, male were more than twice as likely to be the main actor than female actresses."
   ]
  },
  {
   "cell_type": "markdown",
   "metadata": {},
   "source": [
    "## Question 2: How have the movie industry's production costs and revenue changed over the years?"
   ]
  },
  {
   "cell_type": "code",
   "execution_count": 17,
   "metadata": {},
   "outputs": [],
   "source": [
    "# Change the data type of the monetary values from string to integers.\n",
    "# Divide by a million so that numbers are easier to read.\n",
    "money.production_budget = money.production_budget.map(lambda x: int(x[1:].replace(',', '')) / 1000000)\n",
    "money.domestic_gross = money.domestic_gross.map(lambda x: int(x[1:].replace(',', ''))/ 1000000)\n",
    "money.worldwide_gross = money.worldwide_gross.map(lambda x: int(x[1:].replace(',', ''))/ 1000000)\n",
    "\n",
    "# Keep track of data by the release year.\n",
    "money.release_date = money.release_date.map(lambda x: int(x[-4:]))\n",
    "\n",
    "# Index data from the year 1998 or earlier.\n",
    "money = money.loc[money['release_date'] >= 1998]\n",
    "\n",
    "# Index data that is in the 75th quartile in terms of production budget.\n",
    "money = money.loc[money['production_budget'] > money.production_budget.quantile(.75)]\n",
    "\n",
    "# Drop data from the year 2019 and 2020, due to incomplete data.\n",
    "money = money.groupby(['release_date']).mean().drop([2020, 2019]).drop(['id'], axis=1)"
   ]
  },
  {
   "cell_type": "code",
   "execution_count": 20,
   "metadata": {},
   "outputs": [
    {
     "data": {
      "text/plain": [
       "''"
      ]
     },
     "execution_count": 20,
     "metadata": {},
     "output_type": "execute_result"
    },
    {
     "data": {
      "image/png": "[encoded data removed]",
      "text/plain": [
       "<Figure size 432x288 with 1 Axes>"
      ]
     },
     "metadata": {
      "needs_background": "light"
     },
     "output_type": "display_data"
    }
   ],
   "source": [
    "# Visualize the data as a line plot:\n",
    "g = sns.lineplot(data=money)\n",
    "g.set_title('Costs and Returns from 1998 to 2018')\n",
    "sns.set\n",
    "xlabels = ['{0:.0f}'.format(x) for x in g.get_xticks()]\n",
    "g.set_ylabel('Millions of Dollars')\n",
    "g.set_xlabel('Release Years')\n",
    "g.set_xticklabels(xlabels)\n",
    ";"
   ]
  },
  {
   "cell_type": "markdown",
   "metadata": {},
   "source": [
    "## Question 2 - Findings:\n",
    "- The production costs, domestic revenue, and international revenue have been growing steadily.\n",
    "- International revenue has shown impressive growth, almost tripling from the year 1998 to 2018.\n",
    "- Therefore, movies that are produced should aim not only for domestic audiences, but for international audiences.\n",
    "- This would affect many aspects of the movie such as genre choice, production language, and many more.\n",
    "- Further investigation on how to thrive in the internation market would be necessary.\n",
    "- Moreover, further data gathering and analysis should be done to investigate how COVID-19 disrupted this trend."
   ]
  }
 ],
 "metadata": {
  "kernelspec": {
   "display_name": "Python 3",
   "language": "python",
   "name": "python3"
  },
  "language_info": {
   "codemirror_mode": {
    "name": "ipython",
    "version": 3
   },
   "file_extension": ".py",
   "mimetype": "text/x-python",
   "name": "python",
   "nbconvert_exporter": "python",
   "pygments_lexer": "ipython3",
   "version": "3.6.9"
  }
 },
 "nbformat": 4,
 "nbformat_minor": 4
}
